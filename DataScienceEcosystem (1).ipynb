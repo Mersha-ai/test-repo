{
 "cells": [
  {
   "cell_type": "markdown",
   "id": "830251b1-46e5-42b2-9155-f60ccc89fc6a",
   "metadata": {},
   "source": [
    "#                                     DATA SCIENCE ECOSYSTEM"
   ]
  },
  {
   "cell_type": "markdown",
   "id": "30799f87-5d6a-4124-a4e0-0bbb6e1eb29a",
   "metadata": {},
   "source": [
    "#  .Data Science Tools and Ecosystems"
   ]
  },
  {
   "cell_type": "markdown",
   "id": "9fc5cb26-2e7f-48b8-82cf-bded5f4146b2",
   "metadata": {},
   "source": [
    " # *In this notebook, Data Science tools and Ecosystems are summarized* \n",
    "\n",
    " Raw data must pass through various data science task categories, such as data managment,data integration & transformation, data visualization,model building, model deployment , model monitoring and assessment. To do this tasks,we need data asset managment, code asset managment, execution environment.So our task needs:\n",
    "  Data managment tools- for data managment(like MySQL,MangoDB,Apache cassandra & Hadoop file system); Data integration transformation tools- for data integration and transformation(like apache kafka, apache air flow); Data visualization tools- for data visualization(like Pixie dust, Apache superset); Model deployment tool -for model deployment(like Redhat,openshift); Model monitoring tools- for model monitering(like Model DB, IBM AI Fairness 360); Code asset managment tools(like git, gitHub,git lab& bitbucket); data asset managment tools(like Apache atlas,ODPi Egeria & kylo); Development Environment tools like Jupyter & RStudio.\n",
    "  \n",
    "\n",
    "# *=> Some of the popular languages that data scientists uses are:*\n",
    "                                                        1) Python\n",
    "                                                        2) R\n",
    "                                                        3) SQL\n",
    "                                                        4) Scala\n",
    "                                                        5) Java\n",
    "                                                        6) Julia & C++\n",
    "# *=> Some of the commonly used libraries used by Data Scientiest include:*\n",
    "                            -for data science 1) Pandas\n",
    "                                              2) NumPy\n",
    "                                              3) SciPy\n",
    "                                              4) Matplotlib\n",
    "                            -for AI it has libraries like:\n",
    "                                              1) Tensorflow\n",
    "                                              2) Pytorch\n",
    "                                              3) Keras & scikit-learn *\n",
    "\n",
    "                                                        \n"
   ]
  },
  {
   "cell_type": "markdown",
   "id": "961c40f3-c220-4f54-9fd7-15a3d17b6137",
   "metadata": {},
   "source": [
    "# Create a single column table:"
   ]
  },
  {
   "cell_type": "markdown",
   "id": "cb86a870-49de-40e1-997c-284f650f8a31",
   "metadata": {},
   "source": [
    " |Data Science tools|\n",
    " |------------------|\n",
    "  |     Jupyter      |\n",
    "   |     RStudio      |                                                                                    \n",
    " |     KNIME        |\n",
    " |     Orange       |\n",
    "          \n"
   ]
  },
  {
   "cell_type": "markdown",
   "id": "41f4396c-033c-43bd-bbd1-bc0791baac0a",
   "metadata": {},
   "source": [
    " ***Below are a few examples of evaluating arthmetic expression in Python:***"
   ]
  },
  {
   "cell_type": "markdown",
   "id": "737dda7a-1ace-4699-ac69-11f3424a51e3",
   "metadata": {},
   "source": [
    "*Code Cell*"
   ]
  },
  {
   "cell_type": "code",
   "execution_count": 1,
   "id": "9d729bcd-a848-4e4e-ac5a-dd0896e18602",
   "metadata": {},
   "outputs": [
    {
     "data": {
      "text/plain": [
       "17"
      ]
     },
     "execution_count": 1,
     "metadata": {},
     "output_type": "execute_result"
    }
   ],
   "source": [
    "(3*4)+5\n",
    "#This a simple arithmetic expression to multiply then add integers"
   ]
  },
  {
   "cell_type": "markdown",
   "id": "f0b1397d-f90c-4353-ab3d-7f6deecc38c7",
   "metadata": {},
   "source": [
    "# Create a code cell to convert minutes to hours"
   ]
  },
  {
   "cell_type": "code",
   "execution_count": 11,
   "id": "ea776e09-bc3c-48cf-994f-53ccd37eb532",
   "metadata": {},
   "outputs": [
    {
     "data": {
      "text/plain": [
       "3.3333333333333335"
      ]
     },
     "execution_count": 11,
     "metadata": {},
     "output_type": "execute_result"
    }
   ],
   "source": [
    "200/60\n",
    "#This will convert 200 minutes to hours by dividing by 60"
   ]
  },
  {
   "cell_type": "markdown",
   "id": "79ca6f13-e7b4-4ab5-aa9a-3e7b6526b603",
   "metadata": {},
   "source": [
    "# Insert links and Images using markdown "
   ]
  },
  {
   "cell_type": "markdown",
   "id": "a7e47bc0-b81e-425e-9c0e-6b0981133946",
   "metadata": {},
   "source": [
    "=> *Create hyper links*"
   ]
  },
  {
   "cell_type": "markdown",
   "id": "092b0343-7441-4c2f-919a-04ae68fb704d",
   "metadata": {},
   "source": [
    "[YOUTUBE](https://www.youtube.com/)"
   ]
  },
  {
   "cell_type": "markdown",
   "id": "864c9bd6-5935-4021-b477-eb3265b707a6",
   "metadata": {},
   "source": [
    "=>*Create image*"
   ]
  },
  {
   "cell_type": "markdown",
   "id": "8260ded8-27ec-42a7-b4a4-8c8463619b16",
   "metadata": {},
   "source": [
    "LOGO:![This is the coursera Logo Icon](https://www.bing.com/images/search?q=Coursera+Logo+Icon&form=RESTAB&first=1)"
   ]
  },
  {
   "cell_type": "markdown",
   "id": "1e26f65f-24e4-4a22-9bec-315466de3fe8",
   "metadata": {},
   "source": [
    "# OBJECTIVES:"
   ]
  },
  {
   "cell_type": "markdown",
   "id": "aafb64db-5d66-4c90-a930-b1b4a90b73b4",
   "metadata": {},
   "source": [
    "* Objectives of this note book covered:-"
   ]
  },
  {
   "cell_type": "markdown",
   "id": "e20f3f8e-6719-452f-8ad1-9c08f50cb636",
   "metadata": {},
   "source": [
    " \n",
    "* =>list the different types of tools that we use for  data science.\n",
    "* =>list the popular languages that we use for data science.\n",
    "* =>list the common libraries that we use for data science.\n",
    "* =>Show the purpose of Jupyter notebook that we uses for recording experiments and projects as a data scientists "
   ]
  },
  {
   "cell_type": "markdown",
   "id": "50b36e94-1d77-4f27-afa4-a42da7146a76",
   "metadata": {},
   "source": [
    "## Author:\n",
    "      ~> MERSHA \n",
    "       Sunday,Juanary 21,2024"
   ]
  },
  {
   "cell_type": "code",
   "execution_count": null,
   "id": "09af73ec-099d-42f6-baec-9b8d77d8241c",
   "metadata": {},
   "outputs": [],
   "source": []
  }
 ],
 "metadata": {
  "kernelspec": {
   "display_name": "Python 3 (ipykernel)",
   "language": "python",
   "name": "python3"
  },
  "language_info": {
   "codemirror_mode": {
    "name": "ipython",
    "version": 3
   },
   "file_extension": ".py",
   "mimetype": "text/x-python",
   "name": "python",
   "nbconvert_exporter": "python",
   "pygments_lexer": "ipython3",
   "version": "3.11.5"
  }
 },
 "nbformat": 4,
 "nbformat_minor": 5
}
